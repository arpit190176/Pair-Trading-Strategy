{
  "nbformat": 4,
  "nbformat_minor": 0,
  "metadata": {
    "colab": {
      "name": "arpit_FAC.ipynb",
      "provenance": [],
      "collapsed_sections": [],
      "include_colab_link": true
    },
    "kernelspec": {
      "name": "python3",
      "display_name": "Python 3"
    },
    "language_info": {
      "name": "python"
    }
  },
  "cells": [
    {
      "cell_type": "markdown",
      "metadata": {
        "id": "view-in-github",
        "colab_type": "text"
      },
      "source": [
        "<a href=\"https://colab.research.google.com/github/arpit190176/Pair-Trading-Strategy/blob/main/arpit_FAC.ipynb\" target=\"_parent\"><img src=\"https://colab.research.google.com/assets/colab-badge.svg\" alt=\"Open In Colab\"/></a>"
      ]
    },
    {
      "cell_type": "code",
      "metadata": {
        "id": "OYFYFkGi48Dg",
        "colab": {
          "base_uri": "https://localhost:8080/"
        },
        "outputId": "300b0273-4312-41ea-816b-555211b7084e"
      },
      "source": [
        "# import the libraries\n",
        "\n",
        "import numpy as np\n",
        "import pandas as pd\n",
        "import statsmodels\n",
        "from statsmodels.tsa.stattools import coint   # use this library to find this out the p_value\n",
        "import matplotlib.pyplot as plt\n",
        "from pandas_datareader import data as pdr\n",
        "from functools import cmp_to_key\n",
        "import datetime\n",
        "import fix_yahoo_finance as yf"
      ],
      "execution_count": null,
      "outputs": [
        {
          "output_type": "stream",
          "text": [
            "/usr/local/lib/python3.7/dist-packages/statsmodels/tools/_testing.py:19: FutureWarning: pandas.util.testing is deprecated. Use the functions in the public API at pandas.testing instead.\n",
            "  import pandas.util.testing as tm\n"
          ],
          "name": "stderr"
        }
      ]
    },
    {
      "cell_type": "code",
      "metadata": {
        "id": "2SmQy2qQ5UP0"
      },
      "source": [
        "# predefined functions in this cell ,  no need to chagne them\n",
        "\n",
        "def downloadStockData(tickers,start,end):\n",
        "    \"\"\"\n",
        "        This function downloads the Close price of the stock and creates a dataframe from it\n",
        "        Params:\n",
        "            tickers : a list of ticker of various stocks\n",
        "            start   : it is the start date of the data to be downloaded. It is a datetime in datetime format.\n",
        "            end     : it is the end date of the data to be downloaded. It is a datetime in datetime format.\n",
        "\n",
        "        Return:\n",
        "            A dataframe with all the close for of each stock on each open market day\n",
        "    \"\"\"\n",
        "    ticker_data = pdr.get_data_yahoo(tickers, start, end)['Close']\n",
        "    return ticker_data\n",
        "\n",
        "def zscore(series):\n",
        "    return (series - series.mean()) / np.std(series)\n",
        "\n",
        "def plot_ratios(ratios):\n",
        "    \"\"\"\n",
        "        This function just plots the ratios plot \n",
        "        Params:\n",
        "            ratio : a list of the the ration of two stock price \n",
        "    \"\"\"\n",
        "    ratios.plot()\n",
        "    plt.axhline(ratios.mean(),color=\"yellow\")\n",
        "    plt.show()\n"
      ],
      "execution_count": null,
      "outputs": []
    },
    {
      "cell_type": "code",
      "metadata": {
        "id": "lNUsKIMX5ZzR"
      },
      "source": [
        "def findCointegrationValue(data,p_value_threshold=0.05):\n",
        "    \"\"\"\n",
        "        This function find out the pairs of stock with p value less than a constant\n",
        "        Params:\n",
        "            data               : the dataframe containning all the close for of each stock on each open market day\n",
        "            p_value_threshold  : the threshold value for the p value of pairs of stocks. We consider a 2 stocks to be cointegrted only if the p value is less than this value\n",
        "\n",
        "        Returns:\n",
        "            p values of all the pairs , the list of all the pairs with p value less than the threshold \n",
        "    \"\"\"\n",
        "    n = data.shape[1]\n",
        "    pMat = np.ones((n,n));\n",
        "    keys = data.keys();\n",
        "    pairs = []\n",
        "    for i in range(n):\n",
        "      for j in range(i+1,n):\n",
        "        d1 = data[keys[i]]\n",
        "        d2 = data[keys[j]]\n",
        "        result = coint(d1,d2)\n",
        "        \n",
        "        pvalue = result[1]\n",
        "        score = result[0]\n",
        "        pMat[i,j]=pvalue\n",
        "        if(pvalue < p_value_threshold):\n",
        "          pairs.append(((i,j),pvalue))\n",
        "        \n",
        "    return pMat,pairs"
      ],
      "execution_count": null,
      "outputs": []
    },
    {
      "cell_type": "code",
      "metadata": {
        "id": "JR1C2fx_EqlS"
      },
      "source": [
        "def compare(x,y):\n",
        "  return x[1]-y[1]"
      ],
      "execution_count": null,
      "outputs": []
    },
    {
      "cell_type": "code",
      "metadata": {
        "id": "6kvr4Kbv63G-"
      },
      "source": [
        "def getBestKCointergratedStocks(data,k=10,p_value_threshold=0.05):\n",
        "    \"\"\"\n",
        "        This functions find out the k pairs with the least p value and all of them should be less than the threshold  \n",
        "        Params:\n",
        "            data               : the dataframe containning all the close for of each stock on each open market day\n",
        "            k                  : the number of pairs to be found out\n",
        "            p_value_threshold  : the threshold value for the p value of pairs of stocks. We consider a 2 stocks to be cointegrted only if the p value is less than this value\n",
        "\n",
        "        Returns:\n",
        "            the p value for all the pairs of stocks , the list k pairs with the least p value and their p values . If k such pairs doesn't exists return how many of them occur \n",
        "    \"\"\"\n",
        "    pMat, pairs = findCointegrationValue(data)\n",
        "    tem=sorted(pairs,key=cmp_to_key(compare))\n",
        "    if len(tem) < k:\n",
        "      return pMat,tem\n",
        "    return pMat,tem[0:k]\n",
        "   "
      ],
      "execution_count": null,
      "outputs": []
    },
    {
      "cell_type": "code",
      "metadata": {
        "id": "LDi0purqCKZ_"
      },
      "source": [
        "def normalize(series):\n",
        "  return series-series.min()/(series.max()-series.min())"
      ],
      "execution_count": null,
      "outputs": []
    },
    {
      "cell_type": "code",
      "metadata": {
        "id": "X0bvyXcX7-ft"
      },
      "source": [
        "def distanceBetweenStocks(data1,data2,window_size):\n",
        "    \"\"\"\n",
        "        This function takes list of two stocks and find the distance between the stocks \n",
        "        Params:\n",
        "            data1: list of stock price of stock1\n",
        "            data2: list of stock price of stock2\n",
        "            window_size : the window size\n",
        "        Returns:\n",
        "            the distance between the lists\n",
        "\n",
        "        Note:\n",
        "            In this function do try to normalise the stock price and try out some variations in it.\n",
        "    \"\"\"\n",
        "    data1 = normalize(data1)\n",
        "    data2 = normalize(data2)\n",
        "    distance=0 \n",
        "    for i in range(len(data1)):\n",
        "      distance += (data1[i] - data2[i])**2\n",
        "    \n",
        "    return distance\n"
      ],
      "execution_count": null,
      "outputs": []
    },
    {
      "cell_type": "code",
      "metadata": {
        "id": "8StOlGmQ-2na"
      },
      "source": [
        "def getBestKLessDistanceStocks(data,k=10):\n",
        "    \"\"\"\n",
        "        This functions find out the k pairs with the least distance between them  \n",
        "        Params:\n",
        "            data               : the dataframe containning all the close for of each stock on each open market day\n",
        "            k                  : the number of pairs to be found out\n",
        "            \n",
        "        Returns:\n",
        "            the distance between all the stock pairs, the list of k pairs with the least distance between them\n",
        "    \"\"\"\n",
        "    pairs=[]\n",
        "    keys=data.keys();\n",
        "    n = data.shape[1]\n",
        "    \n",
        "    \n",
        "    _distance=np.ones((n,n))\n",
        "    for i in range(n):\n",
        "      for j in range (i+1,n):\n",
        "        \n",
        "        d2=data[keys[j]]\n",
        "        d1=data[keys[i]]\n",
        "        ans=distanceBetweenStocks(d1,d2,200)\n",
        "        _distance[i][j]=ans\n",
        "        pairs.append((i,j))\n",
        "    \n",
        "    pairs.sort(key=cmp_to_key(compare))\n",
        "    if(len(pairs)<k):\n",
        "      return _distance,pairs\n",
        "    return _distance,pairs[0:k]\n",
        "\n",
        "\n",
        "    \n",
        "    \n",
        "    \n"
      ],
      "execution_count": null,
      "outputs": []
    },
    {
      "cell_type": "code",
      "metadata": {
        "id": "oz7WGj5s_6RB"
      },
      "source": [
        "tickers = ['HD', 'DIS','MSFT', 'BA', 'MMM', 'PFE', 'NKE', 'JNJ', 'MCD', 'INTC', 'XOM', 'GS', 'JPM', 'AXP', 'V', 'IBM', 'UNH', 'PG', 'GE', 'KO', 'CSCO', 'CVX', 'CAT', 'MRK', 'WMT', 'VZ', 'RTX', 'TRV', 'AAPL', 'ADBE', 'EBAY', 'QCOM', 'HPQ', 'JNPR', 'AMD']\n",
        "start = datetime.datetime(2013,1,1)\n",
        "end = datetime.datetime(2021,1,1)\n",
        "data = downloadStockData(tickers,start,end)"
      ],
      "execution_count": null,
      "outputs": []
    },
    {
      "cell_type": "code",
      "metadata": {
        "id": "1S_BGo_7AlnM",
        "colab": {
          "base_uri": "https://localhost:8080/",
          "height": 338
        },
        "outputId": "ecf10229-d19e-4adc-d386-687ad9370c28"
      },
      "source": [
        "data.head(5)"
      ],
      "execution_count": null,
      "outputs": [
        {
          "output_type": "execute_result",
          "data": {
            "text/html": [
              "<div>\n",
              "<style scoped>\n",
              "    .dataframe tbody tr th:only-of-type {\n",
              "        vertical-align: middle;\n",
              "    }\n",
              "\n",
              "    .dataframe tbody tr th {\n",
              "        vertical-align: top;\n",
              "    }\n",
              "\n",
              "    .dataframe thead th {\n",
              "        text-align: right;\n",
              "    }\n",
              "</style>\n",
              "<table border=\"1\" class=\"dataframe\">\n",
              "  <thead>\n",
              "    <tr style=\"text-align: right;\">\n",
              "      <th>Symbols</th>\n",
              "      <th>HD</th>\n",
              "      <th>DIS</th>\n",
              "      <th>MSFT</th>\n",
              "      <th>BA</th>\n",
              "      <th>MMM</th>\n",
              "      <th>PFE</th>\n",
              "      <th>NKE</th>\n",
              "      <th>JNJ</th>\n",
              "      <th>MCD</th>\n",
              "      <th>INTC</th>\n",
              "      <th>XOM</th>\n",
              "      <th>GS</th>\n",
              "      <th>JPM</th>\n",
              "      <th>AXP</th>\n",
              "      <th>V</th>\n",
              "      <th>IBM</th>\n",
              "      <th>UNH</th>\n",
              "      <th>PG</th>\n",
              "      <th>GE</th>\n",
              "      <th>KO</th>\n",
              "      <th>CSCO</th>\n",
              "      <th>CVX</th>\n",
              "      <th>CAT</th>\n",
              "      <th>MRK</th>\n",
              "      <th>WMT</th>\n",
              "      <th>VZ</th>\n",
              "      <th>RTX</th>\n",
              "      <th>TRV</th>\n",
              "      <th>AAPL</th>\n",
              "      <th>ADBE</th>\n",
              "      <th>EBAY</th>\n",
              "      <th>QCOM</th>\n",
              "      <th>HPQ</th>\n",
              "      <th>JNPR</th>\n",
              "      <th>AMD</th>\n",
              "    </tr>\n",
              "    <tr>\n",
              "      <th>Date</th>\n",
              "      <th></th>\n",
              "      <th></th>\n",
              "      <th></th>\n",
              "      <th></th>\n",
              "      <th></th>\n",
              "      <th></th>\n",
              "      <th></th>\n",
              "      <th></th>\n",
              "      <th></th>\n",
              "      <th></th>\n",
              "      <th></th>\n",
              "      <th></th>\n",
              "      <th></th>\n",
              "      <th></th>\n",
              "      <th></th>\n",
              "      <th></th>\n",
              "      <th></th>\n",
              "      <th></th>\n",
              "      <th></th>\n",
              "      <th></th>\n",
              "      <th></th>\n",
              "      <th></th>\n",
              "      <th></th>\n",
              "      <th></th>\n",
              "      <th></th>\n",
              "      <th></th>\n",
              "      <th></th>\n",
              "      <th></th>\n",
              "      <th></th>\n",
              "      <th></th>\n",
              "      <th></th>\n",
              "      <th></th>\n",
              "      <th></th>\n",
              "      <th></th>\n",
              "      <th></th>\n",
              "    </tr>\n",
              "  </thead>\n",
              "  <tbody>\n",
              "    <tr>\n",
              "      <th>2013-01-02</th>\n",
              "      <td>63.480000</td>\n",
              "      <td>51.099998</td>\n",
              "      <td>27.620001</td>\n",
              "      <td>77.070000</td>\n",
              "      <td>94.779999</td>\n",
              "      <td>24.582542</td>\n",
              "      <td>25.920000</td>\n",
              "      <td>70.839996</td>\n",
              "      <td>90.120003</td>\n",
              "      <td>21.379999</td>\n",
              "      <td>88.709999</td>\n",
              "      <td>131.660004</td>\n",
              "      <td>44.660000</td>\n",
              "      <td>58.750000</td>\n",
              "      <td>38.845001</td>\n",
              "      <td>196.350006</td>\n",
              "      <td>54.540001</td>\n",
              "      <td>69.389999</td>\n",
              "      <td>20.519232</td>\n",
              "      <td>37.599998</td>\n",
              "      <td>20.340000</td>\n",
              "      <td>110.389999</td>\n",
              "      <td>93.500000</td>\n",
              "      <td>39.446564</td>\n",
              "      <td>69.239998</td>\n",
              "      <td>44.270000</td>\n",
              "      <td>52.863438</td>\n",
              "      <td>72.860001</td>\n",
              "      <td>19.608213</td>\n",
              "      <td>38.340000</td>\n",
              "      <td>22.554714</td>\n",
              "      <td>64.750000</td>\n",
              "      <td>6.821072</td>\n",
              "      <td>20.549999</td>\n",
              "      <td>2.53</td>\n",
              "    </tr>\n",
              "    <tr>\n",
              "      <th>2013-01-03</th>\n",
              "      <td>63.299999</td>\n",
              "      <td>51.209999</td>\n",
              "      <td>27.250000</td>\n",
              "      <td>77.470001</td>\n",
              "      <td>94.669998</td>\n",
              "      <td>24.525618</td>\n",
              "      <td>26.184999</td>\n",
              "      <td>70.739998</td>\n",
              "      <td>90.629997</td>\n",
              "      <td>21.320000</td>\n",
              "      <td>88.550003</td>\n",
              "      <td>130.940002</td>\n",
              "      <td>44.570000</td>\n",
              "      <td>59.000000</td>\n",
              "      <td>38.875000</td>\n",
              "      <td>195.270004</td>\n",
              "      <td>51.990002</td>\n",
              "      <td>68.949997</td>\n",
              "      <td>20.288462</td>\n",
              "      <td>37.599998</td>\n",
              "      <td>20.450001</td>\n",
              "      <td>109.919998</td>\n",
              "      <td>94.400002</td>\n",
              "      <td>40.391220</td>\n",
              "      <td>68.800003</td>\n",
              "      <td>44.060001</td>\n",
              "      <td>53.058529</td>\n",
              "      <td>73.419998</td>\n",
              "      <td>19.360714</td>\n",
              "      <td>37.750000</td>\n",
              "      <td>22.074917</td>\n",
              "      <td>64.449997</td>\n",
              "      <td>6.875568</td>\n",
              "      <td>20.170000</td>\n",
              "      <td>2.49</td>\n",
              "    </tr>\n",
              "    <tr>\n",
              "      <th>2013-01-04</th>\n",
              "      <td>63.180000</td>\n",
              "      <td>52.189999</td>\n",
              "      <td>26.740000</td>\n",
              "      <td>77.690002</td>\n",
              "      <td>95.370003</td>\n",
              "      <td>24.629980</td>\n",
              "      <td>26.440001</td>\n",
              "      <td>71.550003</td>\n",
              "      <td>89.849998</td>\n",
              "      <td>21.160000</td>\n",
              "      <td>88.959999</td>\n",
              "      <td>134.509995</td>\n",
              "      <td>45.360001</td>\n",
              "      <td>59.610001</td>\n",
              "      <td>39.192501</td>\n",
              "      <td>193.990005</td>\n",
              "      <td>52.090000</td>\n",
              "      <td>69.089996</td>\n",
              "      <td>20.384615</td>\n",
              "      <td>37.660000</td>\n",
              "      <td>20.480000</td>\n",
              "      <td>110.500000</td>\n",
              "      <td>94.919998</td>\n",
              "      <td>40.047710</td>\n",
              "      <td>69.059998</td>\n",
              "      <td>44.299999</td>\n",
              "      <td>53.480175</td>\n",
              "      <td>74.059998</td>\n",
              "      <td>18.821428</td>\n",
              "      <td>38.130001</td>\n",
              "      <td>22.213804</td>\n",
              "      <td>63.500000</td>\n",
              "      <td>6.875568</td>\n",
              "      <td>20.379999</td>\n",
              "      <td>2.59</td>\n",
              "    </tr>\n",
              "    <tr>\n",
              "      <th>2013-01-07</th>\n",
              "      <td>62.840000</td>\n",
              "      <td>50.970001</td>\n",
              "      <td>26.690001</td>\n",
              "      <td>76.129997</td>\n",
              "      <td>95.489998</td>\n",
              "      <td>24.648956</td>\n",
              "      <td>26.480000</td>\n",
              "      <td>71.400002</td>\n",
              "      <td>90.910004</td>\n",
              "      <td>21.250000</td>\n",
              "      <td>87.930000</td>\n",
              "      <td>134.259995</td>\n",
              "      <td>45.410000</td>\n",
              "      <td>59.860001</td>\n",
              "      <td>39.472500</td>\n",
              "      <td>193.139999</td>\n",
              "      <td>52.090000</td>\n",
              "      <td>68.620003</td>\n",
              "      <td>20.317308</td>\n",
              "      <td>37.299999</td>\n",
              "      <td>20.290001</td>\n",
              "      <td>109.750000</td>\n",
              "      <td>95.209999</td>\n",
              "      <td>40.190842</td>\n",
              "      <td>68.400002</td>\n",
              "      <td>44.689999</td>\n",
              "      <td>53.222153</td>\n",
              "      <td>73.059998</td>\n",
              "      <td>18.710714</td>\n",
              "      <td>37.939999</td>\n",
              "      <td>22.521044</td>\n",
              "      <td>64.010002</td>\n",
              "      <td>6.889192</td>\n",
              "      <td>20.150000</td>\n",
              "      <td>2.67</td>\n",
              "    </tr>\n",
              "    <tr>\n",
              "      <th>2013-01-08</th>\n",
              "      <td>63.220001</td>\n",
              "      <td>50.759998</td>\n",
              "      <td>26.549999</td>\n",
              "      <td>74.129997</td>\n",
              "      <td>95.500000</td>\n",
              "      <td>24.686907</td>\n",
              "      <td>26.200001</td>\n",
              "      <td>71.410004</td>\n",
              "      <td>90.940002</td>\n",
              "      <td>21.090000</td>\n",
              "      <td>88.480003</td>\n",
              "      <td>133.050003</td>\n",
              "      <td>45.500000</td>\n",
              "      <td>60.200001</td>\n",
              "      <td>39.840000</td>\n",
              "      <td>192.869995</td>\n",
              "      <td>51.400002</td>\n",
              "      <td>68.510002</td>\n",
              "      <td>20.096153</td>\n",
              "      <td>37.040001</td>\n",
              "      <td>20.309999</td>\n",
              "      <td>109.260002</td>\n",
              "      <td>94.000000</td>\n",
              "      <td>40.248093</td>\n",
              "      <td>68.589996</td>\n",
              "      <td>43.099998</td>\n",
              "      <td>52.580238</td>\n",
              "      <td>73.190002</td>\n",
              "      <td>18.761070</td>\n",
              "      <td>38.139999</td>\n",
              "      <td>22.171717</td>\n",
              "      <td>63.910000</td>\n",
              "      <td>6.989101</td>\n",
              "      <td>19.719999</td>\n",
              "      <td>2.67</td>\n",
              "    </tr>\n",
              "  </tbody>\n",
              "</table>\n",
              "</div>"
            ],
            "text/plain": [
              "Symbols            HD        DIS       MSFT  ...       HPQ       JNPR   AMD\n",
              "Date                                         ...                           \n",
              "2013-01-02  63.480000  51.099998  27.620001  ...  6.821072  20.549999  2.53\n",
              "2013-01-03  63.299999  51.209999  27.250000  ...  6.875568  20.170000  2.49\n",
              "2013-01-04  63.180000  52.189999  26.740000  ...  6.875568  20.379999  2.59\n",
              "2013-01-07  62.840000  50.970001  26.690001  ...  6.889192  20.150000  2.67\n",
              "2013-01-08  63.220001  50.759998  26.549999  ...  6.989101  19.719999  2.67\n",
              "\n",
              "[5 rows x 35 columns]"
            ]
          },
          "metadata": {
            "tags": []
          },
          "execution_count": 11
        }
      ]
    },
    {
      "cell_type": "code",
      "metadata": {
        "id": "3xoFzbiUEK0y",
        "colab": {
          "base_uri": "https://localhost:8080/"
        },
        "outputId": "5a872422-b46c-4206-e862-2dd644d39836"
      },
      "source": [
        "p_value_matrix,bestCointegrated = getBestKCointergratedStocks(data)\n",
        "bestCointegrated"
      ],
      "execution_count": null,
      "outputs": [
        {
          "output_type": "execute_result",
          "data": {
            "text/plain": [
              "[((25, 29), 0.0015927567775401998),\n",
              " ((7, 16), 0.001967185941990895),\n",
              " ((15, 19), 0.0021739928266725824),\n",
              " ((19, 25), 0.002711770826849394),\n",
              " ((10, 28), 0.0027792248810815066),\n",
              " ((0, 16), 0.003457179066533632),\n",
              " ((5, 15), 0.003809370812433187),\n",
              " ((5, 20), 0.005048206254305592),\n",
              " ((15, 16), 0.005410531699856885),\n",
              " ((10, 34), 0.006243612201103763)]"
            ]
          },
          "metadata": {
            "tags": []
          },
          "execution_count": 12
        }
      ]
    },
    {
      "cell_type": "code",
      "metadata": {
        "id": "_QnJiPPlP0Cz"
      },
      "source": [
        "keys = data.keys()\n"
      ],
      "execution_count": null,
      "outputs": []
    },
    {
      "cell_type": "code",
      "metadata": {
        "colab": {
          "base_uri": "https://localhost:8080/",
          "height": 269
        },
        "id": "o0ZtWpNDrQRn",
        "outputId": "581c5688-f414-42b7-f007-c16c3f071c86"
      },
      "source": [
        "ratios=data['HD'].copy()/data['TRV'].copy() \n",
        "zscore(ratios).plot()\n",
        "plt.axhline(zscore(ratios).mean(),color=\"yellow\")\n",
        "plt.axhline(0.5, color=\"red\")\n",
        "plt.axhline(-0.05, color=\"green\")\n",
        "plt.show()"
      ],
      "execution_count": null,
      "outputs": [
        {
          "output_type": "display_data",
          "data": {
            "image/png": "[encoded data removed]",
            "text/plain": [
              "<Figure size 432x288 with 1 Axes>"
            ]
          },
          "metadata": {
            "tags": [],
            "needs_background": "light"
          }
        }
      ]
    },
    {
      "cell_type": "markdown",
      "metadata": {
        "id": "ZXZKKBH5RWAA"
      },
      "source": [
        "The pair of stocks showing the lowest P-value is plotted below:-"
      ]
    },
    {
      "cell_type": "code",
      "metadata": {
        "colab": {
          "base_uri": "https://localhost:8080/",
          "height": 286
        },
        "id": "qKaUvgO7QOim",
        "outputId": "7acde79a-04d4-4af8-8c54-5070f21d7086"
      },
      "source": [
        "d1=keys[bestCointegrated[0][0][0]]\n",
        "d2=keys[bestCointegrated[0][0][1]]\n",
        "ratios = data[d1]/data[d2]\n",
        "zscore(ratios).plot()\n",
        "plt.axhline(zscore(ratios).mean(),color=\"yellow\")\n",
        "plt.axhline(0.5, color=\"orange\")\n",
        "plt.axhline(-0.05, color=\"green\")\n",
        "plt.show()\n",
        "print(d1,d2)"
      ],
      "execution_count": null,
      "outputs": [
        {
          "output_type": "display_data",
          "data": {
            "image/png": "[encoded data removed]",
            "text/plain": [
              "<Figure size 432x288 with 1 Axes>"
            ]
          },
          "metadata": {
            "tags": [],
            "needs_background": "light"
          }
        },
        {
          "output_type": "stream",
          "text": [
            "VZ ADBE\n"
          ],
          "name": "stdout"
        }
      ]
    },
    {
      "cell_type": "markdown",
      "metadata": {
        "id": "k7d2fPoSD0Zn"
      },
      "source": [
        "# Reaons why those 2 stocks are similar. (Explain for any 2 stocks in this text cell)"
      ]
    },
    {
      "cell_type": "markdown",
      "metadata": {
        "id": "NBTU4NUXV_Yg"
      },
      "source": [
        "\n",
        "The stocks of Verizon(VZ) and Adobe(ADB) show the lowest p value. Hence, they are strongly cointegrated.\n",
        "Verizon and Adobe have been in a strategic partnership for a number of years. They invest in each other to move the strategy forward. So it is expected that the stocks of these companies will show a fair amount of cointegration.\n",
        "Also Verizon's Wireless online media store has been built on Adobe's Flash playform including Adobe digital enterprise platform.\n"
      ]
    },
    {
      "cell_type": "code",
      "metadata": {
        "id": "bnpGc9uIV9Y3"
      },
      "source": [
        ""
      ],
      "execution_count": null,
      "outputs": []
    }
  ]
}